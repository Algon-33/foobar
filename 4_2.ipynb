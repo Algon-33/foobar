{
 "cells": [
  {
   "cell_type": "markdown",
   "metadata": {},
   "source": [
    "## Attempt 1"
   ]
  },
  {
   "cell_type": "code",
   "execution_count": 14,
   "metadata": {},
   "outputs": [
    {
     "data": {
      "text/plain": [
       "\"\\nSuppose you've got a totally connected graph. You want to get from the start 0 to the end -1 and pass through as many of the \\nnodes in between as you can whilst keeping under a clock. You lose/gain time by travelling to and from certain nodes. So \\nthe time_cost matrix going from rooms start, 0,1,2,3,-1 might look like this\\n0 2 3  4  4\\n6 0 1  1  2\\n6 0 1 -1  0\\n7 3 2  0 -1\\n8 1 1 -1  0\\nThis implies that you can gain time by passing through some extra nodes. Note that you can double back as many times as you want\\nor just quit if you're at -1 and the clock reads >=0.\\nYou output the set of nodes, barring the start and end, that you've visited on whatever path you took.\\n\\n\\n5\\n0 1 2\\n2 0-1\\n3 2 0\\n\\n0->1,   4\\n1->2,   5\\nvisited (1)\\n\\n\\n-1\\n0 2 1\\n2 0-1\\n3 -40\\n\\n0->2,  -2\\n2->1,   2\\n1->2,   3\\nvisited (1)\\n\\n\\n\\n\\n\\n\\n\""
      ]
     },
     "execution_count": 14,
     "metadata": {},
     "output_type": "execute_result"
    }
   ],
   "source": [
    "\"\"\"\n",
    "\n",
    "Suppose you've got a totally connected graph. You want to get from the start 0 to the end -1 and pass through as many of the \n",
    "nodes in between as you can whilst keeping under a clock. You lose/gain time by travelling to and from certain nodes. So \n",
    "the time_cost matrix going from rooms start, 0,1,2,3,-1 might look like this\n",
    "0 2 3  4  4\n",
    "6 0 1  1  2\n",
    "6 0 1 -1  0\n",
    "7 3 2  0 -1\n",
    "8 1 1 -1  0\n",
    "This implies that you can gain time by passing through some extra nodes. Note that you can double back as many times as you want\n",
    "or just quit if you're at -1 and the clock reads >=0. There are at most seven rooms, 5 aside from the start and end.\n",
    "You output the set of nodes, barring the start and end, that you've visited on whatever path you took.\n",
    "\n",
    "\n",
    "5\n",
    "0 1 2\n",
    "2 0-1\n",
    "3 2 0\n",
    "\n",
    "0->1,   4\n",
    "1->2,   5\n",
    "visited (1)\n",
    "\n",
    "\n",
    "-1\n",
    "0 2 1\n",
    "2 0-1\n",
    "3 -40\n",
    "\n",
    "0->2,  -2\n",
    "2->1,   2\n",
    "1->2,   3\n",
    "visited (1)\n",
    "\n",
    "Number 1 operation: checking for cycles that increase counter infinitely.\n",
    "\n",
    "    OK, so imagine all the loops there can be and iterate through the ones that are shortest/least numerous and use those to generate\n",
    "    the path that you want.\n",
    "\n",
    "    So there are N(N-1)/2 loops of the form i ->j -> i\n",
    "    So there are N(N-1)(N-2)/3 loops of the form i->j->k\n",
    "    So there are N!/k loops of length k.\n",
    "    So we will have 7 + 7*6/2 + 7*6*5/2 + ... 7*6*5*4*3*2*1/7 loops to check\n",
    "    2732 is then the upper bound of the number of loops to check.\n",
    "    \n",
    "So supposing we generate all the loops. Then what? We will have checked first of if there are any ways to get infinite time \n",
    "to move around.\n",
    "Second off, if we calculate the times alongside the loops, we will have on the order of 10k list accesses, which we'll use to \n",
    "check the time it takes to circle round in a loop. \n",
    "\n",
    "OR you could just check which connections are negative or 0, barring the \"stay there\" edges. \n",
    "Then once you have those, check which nodes are reachable from one another. \n",
    "\n",
    "\n",
    "\n",
    "\"\"\""
   ]
  },
  {
   "cell_type": "code",
   "execution_count": null,
   "metadata": {},
   "outputs": [],
   "source": []
  },
  {
   "cell_type": "code",
   "execution_count": 31,
   "metadata": {},
   "outputs": [
    {
     "data": {
      "text/plain": [
       "2372.0"
      ]
     },
     "execution_count": 31,
     "metadata": {},
     "output_type": "execute_result"
    }
   ],
   "source": [
    "factorial = lambda x: x*factorial(x-1) if x>1 else 1\n",
    "num_loops = lambda n: sum([ factorial(n) /((i+1)*factorial(n-i-1) )  for i in range(n)])\n",
    "num_loops(7)"
   ]
  },
  {
   "cell_type": "code",
   "execution_count": 72,
   "metadata": {},
   "outputs": [
    {
     "data": {
      "text/plain": [
       "[[0, 5, 2, 6, 3],\n",
       " [0, 0, 4, -2, 3],\n",
       " [5, 2, 0, 5, 7],\n",
       " [1, 6, -2, 0, 7],\n",
       " [0, 5, 3, 0, 0]]"
      ]
     },
     "execution_count": 72,
     "metadata": {},
     "output_type": "execute_result"
    }
   ],
   "source": [
    "import random\n",
    "random.seed(12)\n",
    "gen_time = lambda x,y: random.randint(x,y)\n",
    "gen_times = lambda N, x, y: [ [ (lambda i,j: 0 if i ==j else gen_time(x,y))(i,j) for j in range(N)] for i in range(N)]\n",
    "#blah = lambda ls, index: ls  if ls = []\n",
    "\n",
    "\n",
    "#[0,0,4,-2,3], [], 1= ls, new_ls counter\n",
    "#first item of ls is 0 or negative, counter is not =0, \n",
    "#return ([0,4,-2,3], [0], 0)\n",
    "#first item of ls is 0 or negative and counter is not 0, \n",
    "#return ([4,-2,3],[0],-1)\n",
    "#first item of ls is not (0 or negative) and counter is not 0,\n",
    "# return [-2, 3], [0], -2\n",
    "def free_and_cheap_transitions(times):\n",
    "    free, cheap = [],[];\n",
    "    for i in range(len(times)):\n",
    "        u,v = (i,0)\n",
    "        for j in range(len(times)):    \n",
    "            if i !=j and times[i][j]<=0:\n",
    "                free.append([i,j])\n",
    "            if times[i][j]< times[u][v] or (times[u][v] <=0 and times[i][j]> times[u][v]):\n",
    "                u,v= (i,j)\n",
    "        cheap.append([u,v])\n",
    "    return (free,cheap)\n",
    "    \n",
    "def get_list_of_all_edges_leading_into_and_out_of_nodes(list_edges, nodes):\n",
    "    all_node_in_out_list=[]\n",
    "    for node in nodes:\n",
    "        node_in = []\n",
    "        node_out = []\n",
    "        for edge in list_edges:\n",
    "            if edge[0] ==node:\n",
    "                node_out.append(edge)\n",
    "            elif edge[1] ==node:\n",
    "                node_in.append(edge)\n",
    "        all_node_in_out_list.append([node, node_in, node_out])\n",
    "    return all_node_in_out_list\n",
    "def get_nodes_and_edges_with_in_and_out_edges(ls_nodes_in_out):\n",
    "    ls = []\n",
    "    for i in ls_nodes_in_out:\n",
    "        if i[1]!=[] and i[2] != []:\n",
    "            ls += [i]\n",
    "    return ls\n",
    "time_left = 10\n",
    "M = gen_times(5,-2,7)\n",
    "M"
   ]
  },
  {
   "cell_type": "code",
   "execution_count": 69,
   "metadata": {},
   "outputs": [
    {
     "name": "stdout",
     "output_type": "stream",
     "text": [
      "Travel times are \n",
      " [[0, 5, 2, 6, 3], [0, 0, 4, -2, 3], [5, 2, 0, 5, 7], [1, 6, -2, 0, 7], [0, 5, 3, 0, 0]] \n",
      "\n",
      "free edges are \n",
      " [[1, 0], [1, 3], [3, 2], [4, 0], [4, 3]]\n",
      "\n",
      "Potential nodes with free or cheap edges leading in and out, are \n",
      " [[0, [[1, 0], [4, 0]], [[0, 2]]], [1, [], [[1, 0], [1, 3], [1, 4]]], [2, [[3, 2], [0, 2]], [[2, 3]]], [3, [[1, 3], [4, 3], [2, 3], [4, 3]], [[3, 2], [3, 4]]], [4, [[1, 4], [3, 4]], [[4, 0], [4, 3], [4, 3]]]] \n",
      "\n",
      "Nodes with free or cheap edges leading in and out, are \n",
      " [[0, [[1, 0], [4, 0]], [[0, 2]]], [2, [[3, 2], [0, 2]], [[2, 3]]], [3, [[1, 3], [4, 3], [2, 3], [4, 3]], [[3, 2], [3, 4]]], [4, [[1, 4], [3, 4]], [[4, 0], [4, 3], [4, 3]]]]\n",
      "\n"
     ]
    }
   ],
   "source": [
    "print(\"Travel times are \\n %s \\n\" %M)\n",
    "free, cheap = free_and_cheap_transitions(M)\n",
    "print(\"free edges are \\n %s\\n\" %free)\n",
    "\n",
    "potential_free_loop_nodes_and_in_out_edges = get_list_of_all_edges_leading_into_and_out_of_nodes(free+cheap, [i for i in range(5)])\n",
    "print(\"Potential nodes with free or cheap edges leading in and out, are \\n %s \\n\" %potential_free_loop_nodes_and_in_out_edges)\n",
    "\n",
    "potential_free_loop_nodes = get_nodes_and_edges_with_in_and_out_edges(potential_free_loop_nodes_and_in_out_edges)\n",
    "print(\"Nodes with free or cheap edges leading in and out, are \\n %s\\n\" %potential_free_loop_nodes)\n"
   ]
  },
  {
   "cell_type": "code",
   "execution_count": 70,
   "metadata": {},
   "outputs": [
    {
     "data": {
      "text/plain": [
       "[[3, [[1, 3], [4, 3]], [[3, 2]]]]"
      ]
     },
     "execution_count": 70,
     "metadata": {},
     "output_type": "execute_result"
    }
   ],
   "source": [
    "potential_free_loop_nodes_and_in_out_edges = get_list_of_all_edges_leading_into_and_out_of_nodes(free, [i for i in range(5)])\n",
    "\n",
    "potential_free_loop_nodes = get_nodes_and_edges_with_in_and_out_edges(potential_free_loop_nodes_and_in_out_edges)\n",
    "\n",
    "potential_free_loop_nodes"
   ]
  },
  {
   "cell_type": "markdown",
   "metadata": {
    "collapsed": true
   },
   "source": [
    "# Attempt 2"
   ]
  },
  {
   "cell_type": "code",
   "execution_count": null,
   "metadata": {
    "collapsed": true
   },
   "outputs": [],
   "source": [
    "\"\"\"I tried doing the thing that worked before i.e. trying to solve the problem for a special case by hand. I had a bunch of \n",
    "intuitions that popped up into my head as a result. \n",
    "\n",
    "Largely, my brain was telling me to try Djistkra's algorithm but with some\n",
    "modifications. Like adding - |v|min(cost) to the distance of element, then just performing djistkra. If you get a negative\n",
    "element after that, then you know you've got a negative loop. Turns out this is the Bellman Ford algorithm, more or less. \n",
    "\n",
    "BUT I ignored that for quite a while and just kept on trying to find negative loops by starting with only non-negative edges\n",
    "and iteratively adding edges in some way. I guess my thinking was, since a negative loop must have negative chains of all \n",
    "lengths, it should be the case that eventually you'd hit on a negative loop.\n",
    "\n",
    "Problem is, that my head wasn't clear, and I don't quite know if this algorithm would work to check if you have a negative loop\n",
    "vs a positive one.\n",
    "\n",
    "ANYWAY, the Bellman Ford algorithms basically works to find negative loops. If you find one, then obv. you're good.\n",
    "\n",
    "If you don't, then I'm not sure.\n",
    "\n",
    "\n",
    "\n",
    "\"\"\""
   ]
  }
 ],
 "metadata": {
  "kernelspec": {
   "display_name": "Python 3 (ipykernel)",
   "language": "python",
   "name": "python3"
  },
  "language_info": {
   "codemirror_mode": {
    "name": "ipython",
    "version": 3
   },
   "file_extension": ".py",
   "mimetype": "text/x-python",
   "name": "python",
   "nbconvert_exporter": "python",
   "pygments_lexer": "ipython3",
   "version": "3.9.13"
  }
 },
 "nbformat": 4,
 "nbformat_minor": 1
}
