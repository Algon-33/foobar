{
 "cells": [
  {
   "cell_type": "code",
   "execution_count": 1,
   "metadata": {
    "collapsed": false
   },
   "outputs": [],
   "source": [
    "list_sum = lambda x,y: [ x[i]+y[i] for i in range(len(x))]\n",
    "# listXlist → list\n",
    "list_int_mult=lambda x,y: [x[i]*y[i] for i in range(len(x)) ] if len(x) <= len(y) else [x[i]*y[i] for i in range(len(y)) ]\n",
    "# ((list →Bool)XBool) → list\n",
    "def mask(predicate, x):\n",
    "    return list( map(predicate, x) )\n",
    "\n",
    "non_zero_predicate = lambda x: 1 if x != 0 else 0\n",
    "\n",
    "positive_predicate = lambda x: 1 if x>0 else 0\n",
    "\n",
    "minus_negative_predicate = lambda x: -1 if x<0 else 0\n",
    "\n",
    "zero_to_inf = lambda x: 10000 if x==0 else x;\n",
    "\n",
    "\n",
    "\n",
    "#Takes in a list and a mask, turns all zero elements to -inf, finds first maximal element and returns it's index\n",
    "#list X mask_of_list --> int\n",
    "def index_of_min_norm_in_mask_list(ls, mask):\n",
    "    masked_list = list_int_mult(ls,mask);\n",
    "    masked_list_no_zero = list(map(zero_to_inf,masked_list))\n",
    "    return masked_list_no_zero.index(min(masked_list_no_zero))\n",
    "\n",
    "#function to count number of -1s in an\n",
    "def count_num_neg(mask):\n",
    "    x=0;\n",
    "    for i in mask: \n",
    "        if i==-1: x+=1;\n",
    "    return x\n",
    "#list-->list returns abs value of list\n",
    "abs_list = lambda ls: list(map(abs, ls))\n",
    "\n",
    "#list X int--> list\n",
    "#takes in a list ls and an index and returns a list of len(ls) which is 1 everywhere but at index, where it is 0\n",
    "zero_at_index_mask = lambda ls, index: list_int_mult([ (lambda x,y: 0 if x== y else 1 )(i, index) for i in range(len(ls))], ls) \n",
    "\n",
    "negative_to_be_used_mask = lambda LS, NEG_MASK: abs_list(NEG_MASK) if count_num_neg(NEG_MASK)%2==0 else abs_list(zero_at_index_mask(NEG_MASK, index_of_min_norm_in_mask_list(LS, NEG_MASK)))\n",
    "\n",
    "#pointwise adds two lists and pointwise  multiplies them by a third\n",
    "mul_sum_list =lambda x,y,z : list_int_mult( list_sum(x , y), z);\n",
    "\n",
    "final_neg_mask = lambda x: negative_to_be_used_mask(x, mask(minus_negative_predicate, x));\n",
    "\n",
    "\n",
    "final_mask = lambda LS:  mul_sum_list( mask(positive_predicate,LS), final_neg_mask(LS), mask(non_zero_predicate, LS) )\n",
    "\n",
    "\n",
    "\n",
    "def remove_elements_from_list_via_mask(ls, mask):\n",
    "    x = []\n",
    "    for i in range(len(mask)):\n",
    "        if mask[i] != 0: x.append(ls[i])\n",
    "    return x; \n",
    "def product_of_List(ls):\n",
    "    prod = 1;\n",
    "    for i in ls: \n",
    "        prod = prod * i;\n",
    "    return prod\n",
    "\n",
    "\n",
    "#def solution(ls):\n",
    "#    product_list = remove_elements_from_list_via_mask(ls, final_mask(ls))\n",
    "#    if product_list == []:\n",
    "#        return max(ls)\n",
    "#    else:\n",
    "#        return product_of_List(product_list)\n",
    "\n",
    "class solution:\n",
    "    @staticmethod\n",
    "    def solution(ls):\n",
    "        \n",
    "        product_list = remove_elements_from_list_via_mask(ls, final_mask(ls))\n",
    "        if product_list == []:\n",
    "            return str(max(ls))\n",
    "        else:\n",
    "            return str(product_of_List(product_list))"
   ]
  },
  {
   "cell_type": "code",
   "execution_count": null,
   "metadata": {
    "collapsed": false
   },
   "outputs": [],
   "source": [
    "solution.solution([1,1,-1,-2,-3])"
   ]
  },
  {
   "cell_type": "code",
   "execution_count": null,
   "metadata": {
    "collapsed": true
   },
   "outputs": [],
   "source": [
    "def product_of_values(lst):\n",
    "    product = 1\n",
    "    if len(lst) > 0:\n",
    "        for x in lst:\n",
    "            product *= x\n",
    "    return product\n",
    "\n",
    "\n",
    "\n",
    "\n",
    "\n",
    "\n",
    "def someone_elses_solution(xs):\n",
    "    # two seperate list for positive and negative values\n",
    "    positive_list = [x for x in xs if x > 0]\n",
    "    negative_list = [x for x in xs if x < 0]\n",
    "    pos_product = product_of_values(positive_list)\n",
    "    # multiplication of an even number of negatives == positive value\n",
    "    if len(negative_list) % 2 == 0:\n",
    "        neg_product = product_of_values(negative_list)\n",
    "\n",
    "    # if length of negative_list is odd, pop value closest to zero\n",
    "    else:\n",
    "        negative_list.remove(max(negative_list))\n",
    "        neg_product = product_of_values(negative_list)\n",
    "\n",
    "    # If there is only one negative value in the negative_list, return 0.\n",
    "    if len(negative_list) < 1 and len(negative_list) <= 1:\n",
    "        return '0'\n",
    "    else:\n",
    "        return str(neg_product * pos_product)\n"
   ]
  },
  {
   "cell_type": "code",
   "execution_count": null,
   "metadata": {
    "collapsed": false
   },
   "outputs": [],
   "source": [
    "someone_elses_solution([1,1,-1,-2,-3])"
   ]
  },
  {
   "cell_type": "code",
   "execution_count": null,
   "metadata": {
    "collapsed": false
   },
   "outputs": [],
   "source": [
    "#2.7 solution\n",
    "#WHY DID THIS VERSION WORK WHEN ALL THE PRIOR ONE'S DIDN'T? \n",
    "\n",
    "list_sum = lambda x,y: [ x[i]+y[i] for i in xrange(len(x))]\n",
    "\n",
    "list_int_mult=lambda x,y: [x[j]*y[j] for j in xrange(len(x)) ] if len(x) <= len(y) else [x[j]*y[j] for i in xrange(len(y)) ]\n",
    "\n",
    "def mask(predicate, x):\n",
    "    return list(map(predicate, x))\n",
    "\n",
    "non_zero_predicate = lambda x: 1 if x != 0 else 0\n",
    "\n",
    "positive_predicate = lambda x: 1 if x>0 else 0\n",
    "\n",
    "minus_negative_predicate = lambda x: -1 if x<0 else 0\n",
    "\n",
    "zero_to_inf = lambda x: 10000 if x==0 else x;\n",
    "\n",
    "\n",
    "\n",
    "#Takes in a list and a mask, turns all zero elements to -inf, finds first maximal element and returns it's index\n",
    "#list X mask_of_list --> int\n",
    "def index_of_min_norm_in_mask_list(ls, mask):\n",
    "    masked_list = list_int_mult(ls,mask);\n",
    "    masked_list_no_zero = list(map(zero_to_inf,masked_list))\n",
    "    return masked_list_no_zero.index(min(masked_list_no_zero))\n",
    "#function to count number of -1s in an\n",
    "def count_num_neg(MASK):\n",
    "    x=0;\n",
    "    for i in MASK: \n",
    "        if i==-1: x+=1;\n",
    "    return x\n",
    "#list-->list returns abs value of list\n",
    "abs_list = lambda ls: list(map(abs, ls))\n",
    "\n",
    "#list X int--> list\n",
    "#takes in a list ls and an index and returns a list of len(ls) which is 1 everywhere but at index, where it is 0\n",
    "zero_at_index_mask = lambda ls, index: list_int_mult([ (lambda x,y: 0 if x== y else 1 )(i, index) for i in xrange(len(ls))], ls) \n",
    "\n",
    "negative_to_be_used_mask = lambda LS, NEGMASK: abs_list(NEGMASK) if count_num_neg(NEGMASK)%2==0 else abs_list(zero_at_index_mask(NEGMASK, index_of_min_norm_in_mask_list(LS, NEGMASK)))\n",
    "\n",
    "#pointwise adds two lists and pointwise  multiplies them by a third\n",
    "mul_sum_list =lambda x,y,z : list_int_mult( list_sum(x , y), z);\n",
    "\n",
    "final_neg_mask = lambda x: negative_to_be_used_mask(x, mask(minus_negative_predicate, x));\n",
    "\n",
    "\n",
    "final_mask = lambda LS:  mul_sum_list( mask(positive_predicate,LS), final_neg_mask(LS), mask(non_zero_predicate, LS) )\n",
    "\n",
    "\n",
    "\n",
    "def remove_elements_from_list_via_mask(ls, MASK):\n",
    "    x = []\n",
    "    for i in xrange(len(MASK)):\n",
    "        if MASK[i] != 0: x.append(ls[i])\n",
    "    return x; \n",
    "def product_of_List(ls):\n",
    "    prod = 1;\n",
    "    for i in ls: \n",
    "        prod = prod * i;\n",
    "    return str(prod)\n",
    "\n",
    "\n",
    "def solution(ls):        \n",
    "    product_list = remove_elements_from_list_via_mask(ls, final_mask(ls))\n",
    "    if product_list == []:\n",
    "        return str(max(ls))\n",
    "    else:\n",
    "        return str(product_of_List(product_list))\n",
    "\n",
    "\"\"\"\n",
    "#Final solution testing suite\n",
    "test = [1,-1,0,-1,-4,10,2]\n",
    "print(solution.solution(test))\n",
    "\n",
    "#gets the entries that will go into the product\n",
    "print(remove_elements_from_list_via_mask(test, final_mask(test)) )\n",
    "\n",
    "#the mask used to get the entries into the product\n",
    "print(final_mask(test))\n",
    "\n",
    "#the masks that final_mask(x) combines via mul_sum_list to get the final mask\n",
    "print( mask(positive_predicate,test))\n",
    "print(final_neg_mask(test))\n",
    "print(  mask(non_zero_predicate, test) )\n",
    "\n",
    "#The body of final_neg_mask, w/ input test and the neg_pred applied to test\n",
    "print(negative_to_be_used_mask(test, mask(minus_negative_predicate, test)))\n",
    "\n",
    "#if clause in final_neg_mask, checking if the # negatives in test is even or not\n",
    "print(count_num_neg(mask(minus_negative_predicate, test))%2==0)\n",
    "#Code for producing the final_neg_mask in the case where there are \n",
    "#odd many negatives in test. \n",
    "print(abs_list(zero_at_index_mask(mask(minus_negative_predicate, test), index_of_min_norm_in_mask_list(test, mask(minus_negative_predicate, test)))))\n",
    "\n",
    "#Same as above except it may have negative values\n",
    "print(zero_at_index_mask(mask(minus_negative_predicate, test), index_of_min_norm_in_mask_list(test, mask(minus_negative_predicate, test))))\n",
    "\n",
    "\n",
    "MASK = mask(minus_negative_predicate, test)\n",
    "\n",
    "\n",
    "\n",
    "#A mask which is one at the indicices where test is negative\n",
    "print(mask(minus_negative_predicate, test))\n",
    "#Find the first element of smallest norm in a list AFTER a mask is applied to that list\n",
    "print(index_of_min_norm_in_mask_list(test, mask(minus_negative_predicate, test)))\n",
    "\n",
    "#body of above code. Generates list \\. Positive[x]-->0\\.0-->INF, then finds the minimum value in the resulting list\n",
    "print(list_int_mult(test,MASK))\n",
    "MASKED_LIST_NO_ZERO = list(map(zero_to_inf, list_int_mult(test,MASK)))\n",
    "print(MASKED_LIST_NO_ZERO)\n",
    "print( MASKED_LIST_NO_ZERO.index(min(MASKED_LIST_NO_ZERO)))\n",
    "\n",
    "\n",
    "\n",
    "INDEX = index_of_min_norm_in_mask_list(test, MASK)\n",
    "\n",
    "#The body of zero_at_index_mask, which pointwise multiples the negative mask and a mask which is 0 only at an index i.e. location of min norm negative num\n",
    "print(list_int_mult([ (lambda x,y: 0 if x== y else 1 )(i, INDEX) for i in xrange(len(MASK))], MASK)) \n",
    "\n",
    "#Generates the mask which is 0 only at an index \n",
    "print([ (lambda x,y: 0 if x== y else 1 )(i, INDEX) for i in xrange(len(MASK))])\n",
    "\n",
    "\"\"\"\n",
    "        \n"
   ]
  },
  {
   "cell_type": "code",
   "execution_count": null,
   "metadata": {
    "collapsed": true
   },
   "outputs": [],
   "source": [
    "test = [1,-1,0,-1,-4,10,2]"
   ]
  },
  {
   "cell_type": "code",
   "execution_count": null,
   "metadata": {
    "collapsed": false
   },
   "outputs": [],
   "source": [
    " final_mask(test)"
   ]
  },
  {
   "cell_type": "code",
   "execution_count": null,
   "metadata": {
    "collapsed": false
   },
   "outputs": [],
   "source": [
    " final_neg_mask(test)\n"
   ]
  },
  {
   "cell_type": "code",
   "execution_count": null,
   "metadata": {
    "collapsed": false
   },
   "outputs": [],
   "source": [
    "negative_to_be_used_mask(test, mask(minus_negative_predicate, test))\n"
   ]
  },
  {
   "cell_type": "code",
   "execution_count": null,
   "metadata": {
    "collapsed": false
   },
   "outputs": [],
   "source": [
    "mask(minus_negative_predicate, test)"
   ]
  },
  {
   "cell_type": "code",
   "execution_count": null,
   "metadata": {
    "collapsed": false
   },
   "outputs": [],
   "source": [
    "#negative_to_be_used_mask = lambda LS, NEGMASK: abs_list(NEGMASK) if count_num_neg(NEGMASK)%2==0 else abs_list(zero_at_index_mask(NEGMASK, index_of_min_norm_in_mask_list(LS, NEGMASK)))\n",
    "abs_list(mask(minus_negative_predicate, test))"
   ]
  },
  {
   "cell_type": "code",
   "execution_count": 4,
   "metadata": {
    "collapsed": false
   },
   "outputs": [
    {
     "name": "stdout",
     "output_type": "stream",
     "text": [
      "120\n",
      "[1, 2, 3, -4, -5]\n",
      "[0, 1, 1, 1, 1, 1, 0]\n",
      "[0, 1, 1, 1, 0, 0, 0]\n",
      "[0, 0, 0, 0, 1, 1, 0]\n",
      "[0, 1, 1, 1, 1, 1, 1]\n",
      "[0, 0, 0, 0, 1, 1, 0]\n",
      "False\n",
      "[0, 0, 0, 0, 1, 1, 0]\n",
      "[0, 0, 0, 0, -1, -1, 0]\n",
      "[0, 0, 0, 0, -1, -1, -1]\n",
      "6\n",
      "[0, 0, 0, 0, 4, 5, 1]\n",
      "[10000, 10000, 10000, 10000, 4, 5, 1]\n",
      "6\n",
      "[0, 0, 0, 0, -1, -1, 0]\n",
      "[1, 1, 1, 1, 1, 1, 0]\n"
     ]
    }
   ],
   "source": [
    "test = [0,1,2,3,-4,-5,-1]\n",
    "#Final solution\n",
    "print(solution.solution(test))\n",
    "\n",
    "#gets the entries that will go into the product\n",
    "print(remove_elements_from_list_via_mask(test, final_mask(test)) )\n",
    "\n",
    "#the mask used to get the entries into the product\n",
    "print(final_mask(test))\n",
    "\n",
    "#the masks that final_mask(x) combines via mul_sum_list to get the final mask\n",
    "print( mask(positive_predicate,test))\n",
    "print(final_neg_mask(test))\n",
    "print(  mask(non_zero_predicate, test) )\n",
    "\n",
    "#The body of final_neg_mask, w/ input test and the neg_pred applied to test\n",
    "print(negative_to_be_used_mask(test, mask(minus_negative_predicate, test)))\n",
    "\n",
    "#if clause in final_neg_mask, checking if the # negatives in test is even or not\n",
    "print(count_num_neg(mask(minus_negative_predicate, test))%2==0)\n",
    "#Code for producing the final_neg_mask in the case where there are \n",
    "#odd many negatives in test. \n",
    "print(abs_list(zero_at_index_mask(mask(minus_negative_predicate, test), index_of_min_norm_in_mask_list(test, mask(minus_negative_predicate, test)))))\n",
    "\n",
    "#Same as above except it may have negative values\n",
    "print(zero_at_index_mask(mask(minus_negative_predicate, test), index_of_min_norm_in_mask_list(test, mask(minus_negative_predicate, test))))\n",
    "\n",
    "\n",
    "MASK = mask(minus_negative_predicate, test)\n",
    "\n",
    "\n",
    "\n",
    "#A mask which is one at the indicices where test is negative\n",
    "print(mask(minus_negative_predicate, test))\n",
    "#Find the first element of smallest norm in a list AFTER a mask is applied to that list\n",
    "print(index_of_min_norm_in_mask_list(test, mask(minus_negative_predicate, test)))\n",
    "\n",
    "#body of above code. Generates list \\. Positive[x]-->0\\.0-->INF, then finds the minimum value in the resulting list\n",
    "print(list_int_mult(test,MASK))\n",
    "MASKED_LIST_NO_ZERO = list(map(zero_to_inf, list_int_mult(test,MASK)))\n",
    "print(MASKED_LIST_NO_ZERO)\n",
    "print( MASKED_LIST_NO_ZERO.index(min(MASKED_LIST_NO_ZERO)))\n",
    "\n",
    "\n",
    "\n",
    "INDEX = index_of_min_norm_in_mask_list(test, MASK)\n",
    "\n",
    "#The body of zero_at_index_mask, which pointwise multiples the negative mask and a mask which is 0 only at an index i.e. location of min norm negative num\n",
    "print(list_int_mult([ (lambda x,y: 0 if x== y else 1 )(i, INDEX) for i in range(len(MASK))], MASK)) \n",
    "\n",
    "#Generates the mask which is 0 only at an index \n",
    "print([ (lambda x,y: 0 if x== y else 1 )(i, INDEX) for i in range(len(MASK))])\n",
    "\n",
    "\n"
   ]
  },
  {
   "cell_type": "code",
   "execution_count": null,
   "metadata": {
    "collapsed": true
   },
   "outputs": [],
   "source": []
  }
 ],
 "metadata": {
  "anaconda-cloud": {},
  "kernelspec": {
   "display_name": "Python [conda root]",
   "language": "python",
   "name": "conda-root-py"
  },
  "language_info": {
   "codemirror_mode": {
    "name": "ipython",
    "version": 3
   },
   "file_extension": ".py",
   "mimetype": "text/x-python",
   "name": "python",
   "nbconvert_exporter": "python",
   "pygments_lexer": "ipython3",
   "version": "3.5.2"
  }
 },
 "nbformat": 4,
 "nbformat_minor": 1
}
