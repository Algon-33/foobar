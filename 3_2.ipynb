{
 "cells": [
  {
   "cell_type": "code",
   "execution_count": 1,
   "metadata": {
    "collapsed": false
   },
   "outputs": [],
   "source": [
    "import numpy as np\n",
    "svd = lambda x: np.linalg.svd(x)\n",
    "\n",
    "rotation_matrix = lambda x: svd(x)[0]\n",
    "eigen_value_matrix = lambda x: np.linalg.svd(x)[1]\n",
    "\n",
    "rotation_conjugate_matrix = lambda x: svd(x)[2]\n",
    "\n",
    "\n"
   ]
  },
  {
   "cell_type": "code",
   "execution_count": 2,
   "metadata": {
    "collapsed": false
   },
   "outputs": [
    {
     "data": {
      "text/plain": [
       "'\\nYou get a matrix representing the transition counts from i to j i.e.\\n[#1->1, #1->2, #1->3 ...#1->n]\\n\\n[#2->1, #2->2, #2->3 ...#2->n]\\n...\\n[#n->1, #n->2, #n->3 ...#n->n]\\n\\nGet the equilibrium transition probabilities by calling equilibrium(x)\\n\\nThen the values into their best fractional \\n\\n\\n'"
      ]
     },
     "execution_count": 2,
     "metadata": {},
     "output_type": "execute_result"
    }
   ],
   "source": [
    "\"\"\"\n",
    "You get a matrix representing the transition counts from i to j i.e.\n",
    "[#1->1, #1->2, #1->3 ...#1->n]\n",
    "\n",
    "[#2->1, #2->2, #2->3 ...#2->n]\n",
    "...\n",
    "[#n->1, #n->2, #n->3 ...#n->n]\n",
    "\n",
    "Get the equilibrium transition probabilities by calling equilibrium(x)\n",
    "\n",
    "Then the values into their best fractional \n",
    "\n",
    "\n",
    "\"\"\""
   ]
  },
  {
   "cell_type": "code",
   "execution_count": 3,
   "metadata": {
    "collapsed": false
   },
   "outputs": [
    {
     "name": "stdout",
     "output_type": "stream",
     "text": [
      "[[ 0.13115026  0.65996543]\n",
      " [ 0.20421268  0.93670285]]\n"
     ]
    },
    {
     "ename": "NameError",
     "evalue": "name 'normalise' is not defined",
     "output_type": "error",
     "traceback": [
      "\u001b[0;31m---------------------------------------------------------------------------\u001b[0m",
      "\u001b[0;31mNameError\u001b[0m                                 Traceback (most recent call last)",
      "\u001b[0;32m<ipython-input-3-d7f0211457a9>\u001b[0m in \u001b[0;36m<module>\u001b[0;34m()\u001b[0m\n\u001b[1;32m      3\u001b[0m \u001b[0my\u001b[0m \u001b[1;33m=\u001b[0m \u001b[0mnp\u001b[0m\u001b[1;33m.\u001b[0m\u001b[0mrandom\u001b[0m\u001b[1;33m.\u001b[0m\u001b[0mrand\u001b[0m\u001b[1;33m(\u001b[0m\u001b[1;36m2\u001b[0m\u001b[1;33m,\u001b[0m\u001b[1;36m2\u001b[0m\u001b[1;33m)\u001b[0m\u001b[1;33m\u001b[0m\u001b[0m\n\u001b[1;32m      4\u001b[0m \u001b[0mprint\u001b[0m\u001b[1;33m(\u001b[0m\u001b[0my\u001b[0m\u001b[1;33m)\u001b[0m\u001b[1;33m\u001b[0m\u001b[0m\n\u001b[0;32m----> 5\u001b[0;31m \u001b[0mnormalise\u001b[0m\u001b[1;33m(\u001b[0m\u001b[0my\u001b[0m\u001b[1;33m)\u001b[0m\u001b[1;33m\u001b[0m\u001b[0m\n\u001b[0m\u001b[1;32m      6\u001b[0m \u001b[0mprint\u001b[0m\u001b[1;33m(\u001b[0m\u001b[0my\u001b[0m\u001b[1;33m)\u001b[0m\u001b[1;33m\u001b[0m\u001b[0m\n\u001b[1;32m      7\u001b[0m \u001b[0mR\u001b[0m\u001b[1;33m,\u001b[0m \u001b[0mE\u001b[0m\u001b[1;33m,\u001b[0m \u001b[0mRT\u001b[0m \u001b[1;33m=\u001b[0m \u001b[0msvd\u001b[0m\u001b[1;33m(\u001b[0m\u001b[0my\u001b[0m\u001b[1;33m)\u001b[0m\u001b[1;33m;\u001b[0m\u001b[1;33m\u001b[0m\u001b[0m\n",
      "\u001b[0;31mNameError\u001b[0m: name 'normalise' is not defined"
     ]
    }
   ],
   "source": [
    "x = [[1,2],[3,4]]\n",
    "\n",
    "y = np.random.rand(2,2)\n",
    "print(y)\n",
    "normalise(y)\n",
    "print(y)\n",
    "R, E, RT = svd(y);\n",
    "\n",
    "\n",
    "print(E)"
   ]
  },
  {
   "cell_type": "code",
   "execution_count": 4,
   "metadata": {
    "collapsed": false
   },
   "outputs": [],
   "source": [
    "from fractions import Fraction\n",
    "import numpy as np\n",
    "\n",
    "\n",
    "\n",
    "sum_if_sum_ne_zero_else_1 = lambda x: sum(x) if sum(x) !=0 else 1\n",
    "\n",
    "reweight = lambda x: [i/sum_if_sum_ne_zero_else_1(x) for i in x]\n",
    "\n",
    "normalise = lambda x: list(map(reweight,x))\n",
    "\n",
    "gcd = lambda a,b: a if b ==0 else gcd(b, a%b)\n",
    "to_zero_if_below_threshould = np.vectorize( lambda x, thresh: x if x>thresh else 0)\n",
    "\n",
    "\"\"\"def equilibrium_matrix(x):\n",
    "    n=1\n",
    "    y = np.linalg.matrix_power(x,30)\n",
    "    while np.array_equiv(y,x):\n",
    "        y = np.linalg.matrix_power(x,30*(2**n));\n",
    "        print(n)\n",
    "    return y\"\"\"\n",
    "\n",
    "def equilibrium_matrix(x):\n",
    "    n=1\n",
    "    y = np.matmul(x,x)\n",
    "    error = 1E-16;\n",
    "    z = np.matmul(y,y);\n",
    "    while np.max(np.abs(y-z))>error:\n",
    "        \n",
    "        y = np.matmul(z,z);\n",
    "        z = np.matmul(y,y);\n",
    "    return y\n",
    "\n",
    "def get_terminal_states(transition_array):\n",
    "    ls = [];\n",
    "    for i in range(len(transition_array)):\n",
    "        if sum(transition_array[i]) ==0: \n",
    "            ls.append(i)\n",
    "    return ls\n",
    "    \n",
    "def transition_count_to_transition_matrix(matrix):\n",
    "    normalised_matrix =normalise(matrix);\n",
    "    for i in range(len(normalised_matrix)):\n",
    "        if sum(normalised_matrix[i]) == 0:\n",
    "            normalised_matrix[i][i]+=1;\n",
    "    return np.array(normalised_matrix)\n",
    "\n",
    "def terminal_transition_probabilities(matrix, terminal_states):\n",
    "    transition_matrix = [];\n",
    "    for i in range(len(matrix)):\n",
    "        transition_vector = [];\n",
    "        for j in terminal_states:\n",
    "            transition_vector.append(matrix[i][j])\n",
    "        transition_matrix.append(transition_vector)\n",
    "    return np.array(transition_matrix)\n",
    "\n",
    "\n",
    "fractional_value = lambda x: (Fraction(x).limit_denominator().numerator, Fraction(x).limit_denominator().denominator  )\n",
    "fractional_value_array = lambda x: [[fractional_value(j) for j in i] for i in x]\n",
    "\n",
    " \n",
    "lcm_list_component = lambda x: int(x[0]*x[1]/gcd(x[0], x[1])) if len(x) ==2 else lcm_list( [ (lambda y,j: y[j] if j!=1 else int(y[0]*y[1]/gcd(y[0],y[1])) )(x, i+1)   for i in range(len(x)-1)] )\n",
    "def lcm_list(x): \n",
    "    if len(x) >1: return lcm_list_component(x); \n",
    "    elif len(x) ==1: return x[0];\n",
    "    else: return None;\n",
    "\n",
    "list_of_fraction_tuples_times_by_lcm_over_denom = lambda x: [int(j[0] /j[1] *  lcm_list([ i[1] for i in x  ])  ) for j in x]\n",
    "\n",
    "\n",
    "#final_array_from_equilibrium_array = lambda x: [list_of_fraction_tuples_times_by_lcm_over_denom(ls) + [lcm_list([tupl[1] for tupl in ls])] for ls in x]\n",
    "#for some reason\n",
    "def final_array_from_equilibrium_array(x):\n",
    "    \n",
    "    return [list_of_fraction_tuples_times_by_lcm_over_denom(ls) + [lcm_list([tupl[1] for tupl in ls])] for ls in x]\n",
    "\n",
    "    \n",
    "\n",
    "def solution(x):\n",
    "    TS = get_terminal_states(x);\n",
    "    P=transition_count_to_transition_matrix(x)\n",
    "    P_eq = equilibrium_matrix(P)\n",
    "    P_inf = terminal_transition_probabilities(equilibrium_matrix(P),TS)\n",
    "    f_inf = fractional_value_array(P_inf)\n",
    "    return final_array_from_equilibrium_array(f_inf)[0]\n"
   ]
  },
  {
   "cell_type": "code",
   "execution_count": 5,
   "metadata": {
    "collapsed": false
   },
   "outputs": [
    {
     "data": {
      "text/plain": [
       "1e-16"
      ]
     },
     "execution_count": 5,
     "metadata": {},
     "output_type": "execute_result"
    }
   ],
   "source": [
    "1E-16"
   ]
  },
  {
   "cell_type": "code",
   "execution_count": 6,
   "metadata": {
    "collapsed": false
   },
   "outputs": [
    {
     "data": {
      "text/plain": [
       "[[(1, 1)], [(1, 1)], [(1, 1)]]"
      ]
     },
     "execution_count": 6,
     "metadata": {},
     "output_type": "execute_result"
    }
   ],
   "source": [
    "x = [[1,1,1],[0,0,0],[2,1,0]]\n",
    "TS = get_terminal_states(x)\n",
    "P=transition_count_to_transition_matrix(x)\n",
    "P_inf = terminal_transition_probabilities(equilibrium_matrix(P),TS)\n",
    "\n",
    "P_inf\n",
    "final_array_from_equilibrium_array(fractional_value_array(P_inf))\n",
    "\n",
    "fractional_value_array(P_inf)"
   ]
  },
  {
   "cell_type": "code",
   "execution_count": 7,
   "metadata": {
    "collapsed": false
   },
   "outputs": [
    {
     "name": "stdout",
     "output_type": "stream",
     "text": [
      "The transition counts are [[0, 2, 1, 0, 0], [0, 0, 0, 3, 4], [0, 0, 0, 0, 0], [0, 0, 0, 0, 0], [0, 0, 0, 0, 0]]\n",
      "The terminal states are [2, 3, 4]\n",
      "The transition matrix  is \n",
      " [[ 0.          0.66666667  0.33333333  0.          0.        ]\n",
      " [ 0.          0.          0.          0.42857143  0.57142857]\n",
      " [ 0.          0.          1.          0.          0.        ]\n",
      " [ 0.          0.          0.          1.          0.        ]\n",
      " [ 0.          0.          0.          0.          1.        ]] \n",
      " and is type <class 'numpy.ndarray'>\n",
      "The equillibrium matrix is \n",
      " [[ 0.          0.          0.33333333  0.28571429  0.38095238]\n",
      " [ 0.          0.          0.          0.42857143  0.57142857]\n",
      " [ 0.          0.          1.          0.          0.        ]\n",
      " [ 0.          0.          0.          1.          0.        ]\n",
      " [ 0.          0.          0.          0.          1.        ]]\n",
      "The terminal state equillibrium probabilities are \n",
      " [[ 0.33333333  0.28571429  0.38095238]\n",
      " [ 0.          0.42857143  0.57142857]\n",
      " [ 1.          0.          0.        ]\n",
      " [ 0.          1.          0.        ]\n",
      " [ 0.          0.          1.        ]]\n",
      " fractional value array is\n",
      "  [[(1, 3), (2, 7), (8, 21)], [(0, 1), (3, 7), (4, 7)], [(1, 1), (0, 1), (0, 1)], [(0, 1), (1, 1), (0, 1)], [(0, 1), (0, 1), (1, 1)]] \n",
      " solution is\n",
      "  [7, 6, 8, 21] \n"
     ]
    },
    {
     "data": {
      "text/plain": [
       "array([[ 0.        ,  0.        ,  0.33333333,  0.28571429,  0.38095238],\n",
       "       [ 0.        ,  0.        ,  0.        ,  0.42857143,  0.57142857],\n",
       "       [ 0.        ,  0.        ,  1.        ,  0.        ,  0.        ],\n",
       "       [ 0.        ,  0.        ,  0.        ,  1.        ,  0.        ],\n",
       "       [ 0.        ,  0.        ,  0.        ,  0.        ,  1.        ]])"
      ]
     },
     "execution_count": 7,
     "metadata": {},
     "output_type": "execute_result"
    }
   ],
   "source": [
    "x = [[0, 2, 1, 0, 0], [0, 0, 0, 3, 4], [0, 0, 0, 0, 0], [0, 0, 0, 0,0], [0, 0, 0, 0, 0]]\n",
    "\n",
    "print(\"The transition counts are %s\" %x)\n",
    "TS = get_terminal_states(x)\n",
    "print(\"The terminal states are %s\" %TS)\n",
    "\n",
    "P=transition_count_to_transition_matrix(x)\n",
    "print(\"The transition matrix  is \\n %s \\n and is type %s\"%(P, type(P)) )\n",
    "P_eq = equilibrium_matrix(P)\n",
    "\n",
    "print(\"The equillibrium matrix is \\n %s\" %P_eq)\n",
    "\n",
    "\n",
    "\n",
    "P_inf = terminal_transition_probabilities(equilibrium_matrix(P),TS)\n",
    "\n",
    "print(\"The terminal state equillibrium probabilities are \\n %s\" % P_inf)\n",
    "\n",
    "\n",
    "f_inf = fractional_value_array(P_inf)\n",
    "print( \" fractional value array is\\n  %s \" %f_inf)\n",
    "\n",
    "\n",
    "\n",
    "\n",
    "final_array_from_equilibrium_array(fractional_value_array(P_inf))\n",
    "\n",
    "\n",
    "\n",
    "print( \" solution is\\n  %s \" % solution(x))\n",
    "\n",
    "P[0][0]==0.0\n",
    "\n",
    "np.matmul(P_eq,P_eq)"
   ]
  },
  {
   "cell_type": "code",
   "execution_count": 8,
   "metadata": {
    "collapsed": false
   },
   "outputs": [
    {
     "data": {
      "text/plain": [
       "[0, 3, 2, 9, 14]"
      ]
     },
     "execution_count": 8,
     "metadata": {},
     "output_type": "execute_result"
    }
   ],
   "source": [
    "x= [[0, 1, 0, 0, 0, 1], [4, 0, 0, 3, 2, 0], [0, 0, 0, 0, 0, 0], [0, 0, 0, 0, 0, 0], [0, 0, 0, 0, 0, 0], [0, 0, 0, 0, 0, 0]];\n",
    "solution(x)"
   ]
  },
  {
   "cell_type": "code",
   "execution_count": 31,
   "metadata": {
    "collapsed": false
   },
   "outputs": [
    {
     "name": "stdout",
     "output_type": "stream",
     "text": [
      "True\n"
     ]
    }
   ],
   "source": [
    "numpy_vers = [\"1.6\", \"1.7.0\", \"1.8.0\", \"1.8.1\", \"1.9.0\",\"1.9.1\",\"1.9.2\", \"1.9.3\",\"1.10.0\",\"1.10.1\",\"1.10.4\", \"1.11.0\", \"1.12.0\", \"1.13.0\", \"1.14.0\", \"1.14.1\", \"1.14.5\", \"1.15.0\", \"1.15.1\", \"1.15.4\", \"1.16.0\", \"1.16.1\",\"1.16.2\",\"1.16.3\",\"1.16.4\",\"1.16.5\", \"1.16.6\", \"1.17.0\"]\n",
    "\n",
    "\n",
    "split_by_dot = lambda x: x.split(\".\" )\n",
    "split_by_dot_first_two_elements = lambda x: split_by_dot(x)[:2]\n",
    "list_map_split_by_dot_first_two_elements = lambda x:list(map(split_by_dot_first_two_elements, x))\n",
    "\n",
    "#print(h)\n",
    "#print(i(numpy_vers))\n",
    "ver_0 = split_by_dot_first_two_elements(np.version.version)[0]\n",
    "print(np.version.version[0] == \"1\")"
   ]
  },
  {
   "cell_type": "code",
   "execution_count": null,
   "metadata": {
    "collapsed": true
   },
   "outputs": [],
   "source": [
    "#2.7 version\n",
    "#Turns out x/y doesn't convert x,y to floats then divides them. So if you try\n",
    "# 1/3 you'll get 0, as these are ints. Haven't figured out if this generates\n",
    "#the factor of 1,3, but whatever.\n",
    "#Also, numpy matrix_power is slower than just creating an exponentially growing loop\n",
    "# OR I set my threshold too low in my prior equilibrium_matrix function. \n",
    "#ALSO, you can exploit the test case verification to get information about\n",
    "#the state of your code in google foobar\n",
    "#Figuring out which version of a module you're using is handy, and can probably\n",
    "# be done by creating a variable = module.version and then comparing the resulting\n",
    "#string numbers to the versions you can find online. Note that they may not show you \n",
    "#all versions.\n",
    "\n",
    "\n",
    "from fractions import Fraction\n",
    "#np version is 1.16.6\n",
    "import numpy as np\n",
    "\n",
    "sum_if_sum_ne_zero_else_1 = lambda x: sum(x) if sum(x) != 0 else 1\n",
    "\n",
    "reweight = lambda x: [np.divide(float(i),float(sum_if_sum_ne_zero_else_1(x)) ) for i in x]\n",
    "\n",
    "normalise = lambda x: list(map(reweight, x))\n",
    "\n",
    "gcd = lambda a, b: a if b == 0 else gcd(b, a % b)\n",
    "to_zero_if_below_threshould = np.vectorize(\n",
    "    lambda x, thresh: x if x > thresh else 0)\n",
    "\"\"\"def equilibrium_matrix(x):\n",
    "    n = 1\n",
    "    y = np.linalg.matrix_power(x, 30)\n",
    "    while np.array_equiv(y, x):\n",
    "        y = np.linalg.matrix_power(x, 30 * (2**n))\n",
    "\n",
    "        n += 1\n",
    "    return y\"\"\"\n",
    "\n",
    "\n",
    "def equilibrium_matrix(x):\n",
    "    n = 1\n",
    "    y = np.matmul(x, x)\n",
    "    error = 1E-16\n",
    "    z = np.matmul(y, y)\n",
    "    while np.max(np.abs(y - z)) > error:\n",
    "\n",
    "        y = np.matmul(z, z)\n",
    "        z = np.matmul(y, y)\n",
    "    return y\n",
    "\n",
    "\n",
    "def get_terminal_states(transition_array):\n",
    "    ls = []\n",
    "    for i in range(len(transition_array)):\n",
    "        if sum(transition_array[i]) == 0:\n",
    "            ls.append(i)\n",
    "    return ls\n",
    "\n",
    "\n",
    "def transition_count_to_transition_matrix(matrix):\n",
    "    normalised_matrix = normalise(matrix)\n",
    "    for i in range(len(normalised_matrix)):\n",
    "        if sum(normalised_matrix[i]) == 0:\n",
    "            normalised_matrix[i][i] += 1\n",
    "    return np.array(normalised_matrix)\n",
    "\n",
    "\n",
    "def terminal_transition_probabilities(matrix, terminal_states):\n",
    "    transition_matrix = []\n",
    "    for i in range(len(matrix)):\n",
    "        transition_vector = []\n",
    "        for j in terminal_states:\n",
    "            transition_vector.append(matrix[i][j])\n",
    "        transition_matrix.append(transition_vector)\n",
    "    return np.array(transition_matrix)\n",
    "\n",
    "\n",
    "fractional_value = lambda x: (Fraction(x).limit_denominator().numerator, Fraction(x).limit_denominator().denominator  )\n",
    "fractional_value_array = lambda x: [[fractional_value(j) for j in i] for i in x]\n",
    "\n",
    "\n",
    "def lcm_list_component(x):\n",
    "    if len(x) == 2:\n",
    "\n",
    "        return int(np.divide(np.multiply(x[0], x[1]), gcd(x[0], x[1])))\n",
    "\n",
    "    else:\n",
    "        return lcm_list_component( [ (lambda y,j: y[j] if j!=1 else int(np.divide(np.multiply(y[0],y[1]),gcd(y[0],y[1]))) )(x, i+1)   for i in range(len(x)-1)] )\n",
    "\n",
    "\n",
    "def lcm_list(x):\n",
    "    if len(x) > 1: return lcm_list_component(x)\n",
    "    elif len(x) == 1: return x[0]\n",
    "    else: return None\n",
    "\n",
    "list_of_fraction_tuples_times_by_lcm_over_denom = lambda x: [int( np.multiply(j[0], np.divide(lcm_list([ i[1] for i in x  ]), j[1]))  ) for j in x]\n",
    "\n",
    "\n",
    "def final_array_from_equilibrium_array(x):\n",
    "\n",
    "    return [\n",
    "        list_of_fraction_tuples_times_by_lcm_over_denom(ls) +\n",
    "        [lcm_list([tupl[1] for tupl in ls])] for ls in x\n",
    "    ]\n",
    "\n",
    "\n",
    "split_by_dot = lambda x: x.split(\".\")\n",
    "split_by_dot_first_two_elements = lambda x: split_by_dot(x)[:2]\n",
    "list_map_split_by_dot_first_two_elements = lambda x:list(map(split_by_dot_first_two_elements, x))\n",
    "\n",
    "\n",
    "def element_of_list(x, list):\n",
    "    return sum([(lambda x, y: 1 if x == y else 0)(x, i) for i in list])\n",
    "\n",
    "\n",
    "def solution(x):\n",
    "    TS = get_terminal_states(x)\n",
    "    P = transition_count_to_transition_matrix(x)\n",
    "    P_eq = equilibrium_matrix(P)\n",
    "    P_inf = terminal_transition_probabilities(equilibrium_matrix(P), TS)\n",
    "    f_inf = fractional_value_array(P_inf)\n",
    "\n",
    "    sol = final_array_from_equilibrium_array(f_inf)[0]\n",
    "    #This is \"1.16.6\"\n",
    "    numpy_ver = np.version.version\n",
    "    return(sol)\n"
   ]
  },
  {
   "cell_type": "code",
   "execution_count": null,
   "metadata": {
    "collapsed": true
   },
   "outputs": [],
   "source": [
    "\"\"\"\n",
    "Suppose you have a bunch of transitions\n",
    "[1 0 3]\n",
    "[0 1 2]\n",
    "[0 0 0]\n",
    "A state is terminal if it has a row like [0 0 0]\n",
    "That means that we have never observed state 3 transitioning to anything BESIDES itself.\n",
    "    So we take in an array and output terminal state IFF they are all zero. \n",
    "    \n",
    "    \n",
    "    Also, it means that for a row s we are viewing the transitions s->i.\n",
    "    So the above array A[i,j] = # i --> j\n",
    "    So if we replaced the above array with\n",
    "    [1/4, 0, 3/4]\n",
    "    [0, 1/3, 2/3]\n",
    "    [0, bi 0,  1  ]\n",
    "        We can perform this transformation by normalising the matrix and then going through the rows and if row i =[0,0,0...],\n",
    "        replace it with the one hot vector which is non-zero at index i.\n",
    "    \n",
    "    So if you have a probability vector, you need to use p.above in order to get the new transitions.\n",
    "    If you repeatedly apply this matrix to the right then you get the equilibrium probability vector once the system converges. \n",
    "    So if you want to know with what probability state i --> state j at equilibrium, then you need to get P^{inf} and find the probability \n",
    "    for the terminal states.\n",
    "        \n",
    "\n",
    "Get terminal states\n",
    "Transform counts to probability transitions. \n",
    "Find equilibrium transtion probabilities.\n",
    "For state i, get the transition to terminal prob. by getting row i and finding the values at the terminal state indices\n",
    "Then convert those to fractions, \n",
    "For each row\n",
    "    Find the lcm of their denominators LCM\n",
    "    Modify the numerators by LCM/denominator\n",
    "    Append the denominator to each row.\n",
    "\n",
    "\"\"\""
   ]
  }
 ],
 "metadata": {
  "anaconda-cloud": {},
  "kernelspec": {
   "display_name": "Python [conda root]",
   "language": "python",
   "name": "conda-root-py"
  },
  "language_info": {
   "codemirror_mode": {
    "name": "ipython",
    "version": 3
   },
   "file_extension": ".py",
   "mimetype": "text/x-python",
   "name": "python",
   "nbconvert_exporter": "python",
   "pygments_lexer": "ipython3",
   "version": "3.5.2"
  }
 },
 "nbformat": 4,
 "nbformat_minor": 1
}
